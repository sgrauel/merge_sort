{
 "cells": [
  {
   "cell_type": "code",
   "execution_count": 94,
   "metadata": {
    "collapsed": false
   },
   "outputs": [
    {
     "data": {
      "text/plain": [
       "[7, 6, 60, 10, 66, 9, 5, 21, 50, 83]"
      ]
     },
     "execution_count": 94,
     "metadata": {},
     "output_type": "execute_result"
    }
   ],
   "source": [
    "import random\n",
    "import copy\n",
    "xs = random.sample(range(1, 101), 10)\n",
    "xs"
   ]
  },
  {
   "cell_type": "code",
   "execution_count": 95,
   "metadata": {
    "collapsed": false
   },
   "outputs": [],
   "source": [
    "# inputs: \n",
    "# (i) xs: an unsorted list\n",
    "# (ii) lo: the upper bound index of xs\n",
    "# (iii) hi: the lower bound index of xs\n",
    "\n",
    "# output:\n",
    "# a sorted list xs\n",
    "def merge_sort(xs,lo, hi):\n",
    "        \n",
    "        # base case: if xs is empty or a singleton, then the list is sorted\n",
    "        if hi <= lo: return\n",
    "        \n",
    "        # partition of L and R halves of xs is between mid and mid+1\n",
    "        mid = int(lo + (hi - lo) / 2)\n",
    "        \n",
    "        # otherwise, sort L and R halves of xs, yielding L' and R', the sorted lists\n",
    "        merge_sort(xs,lo,mid)\n",
    "        merge_sort(xs,mid+1,hi)\n",
    "\n",
    "        # deep copy xs to yield auxiliary list\n",
    "        aux = copy.deepcopy(xs)\n",
    "        \n",
    "        # set iterators i,k to lo, and j to mid+1\n",
    "        i = lo\n",
    "        k = lo\n",
    "        j = mid + 1\n",
    "        \n",
    "        # k iterator goes from lo to hi\n",
    "        while k >= lo and k <= hi:\n",
    "            if i > mid:\n",
    "                xs[k] = aux[j]\n",
    "                j+=1\n",
    "            elif j > hi:\n",
    "                xs[k] = aux[i]\n",
    "                i+=1\n",
    "            elif aux[j] < aux[i]:\n",
    "                xs[k] = aux[j]\n",
    "                j+=1    \n",
    "            else:\n",
    "                xs[k] = aux[i]\n",
    "                i+=1\n",
    "            k += 1    \n",
    "        "
   ]
  },
  {
   "cell_type": "code",
   "execution_count": 96,
   "metadata": {
    "collapsed": false
   },
   "outputs": [
    {
     "data": {
      "text/plain": [
       "[5, 6, 7, 9, 10, 21, 50, 60, 66, 83]"
      ]
     },
     "execution_count": 96,
     "metadata": {},
     "output_type": "execute_result"
    }
   ],
   "source": [
    "merge_sort(xs,0,len(xs)-1)\n",
    "xs"
   ]
  },
  {
   "cell_type": "code",
   "execution_count": null,
   "metadata": {
    "collapsed": true
   },
   "outputs": [],
   "source": []
  }
 ],
 "metadata": {
  "anaconda-cloud": {},
  "kernelspec": {
   "display_name": "Python [conda env:tf]",
   "language": "python",
   "name": "conda-env-tf-py"
  },
  "language_info": {
   "codemirror_mode": {
    "name": "ipython",
    "version": 3
   },
   "file_extension": ".py",
   "mimetype": "text/x-python",
   "name": "python",
   "nbconvert_exporter": "python",
   "pygments_lexer": "ipython3",
   "version": "3.6.0"
  }
 },
 "nbformat": 4,
 "nbformat_minor": 1
}
